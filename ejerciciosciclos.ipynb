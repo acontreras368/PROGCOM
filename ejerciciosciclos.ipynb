{
  "nbformat": 4,
  "nbformat_minor": 0,
  "metadata": {
    "colab": {
      "name": "ejerciciosciclos",
      "provenance": [],
      "collapsed_sections": []
    },
    "kernelspec": {
      "name": "python3",
      "display_name": "Python 3"
    },
    "language_info": {
      "name": "python"
    }
  },
  "cells": [
    {
      "cell_type": "markdown",
      "source": [
        "Ejercicios for y while- Ana Contreras y Juan León"
      ],
      "metadata": {
        "id": "qMLN20m6or1v"
      }
    },
    {
      "cell_type": "markdown",
      "source": [
        "Ejercicio 2:Imprimir los 30 primeros números de Fibonacci. "
      ],
      "metadata": {
        "id": "-ZwVCR5Joum3"
      }
    },
    {
      "cell_type": "code",
      "source": [
        "def fibonaccin(num):\n",
        "    n1=1\n",
        "    n2=1\n",
        "    if num==1:\n",
        "        print('0')\n",
        "    elif n1==2:\n",
        "        print('0','1')\n",
        "    else:\n",
        "        print('0')\n",
        "        print(n1)\n",
        "        print(n2)\n",
        "        for i in range(num-3):\n",
        "            total = n1 + n2\n",
        "            n2=n1\n",
        "            n1= total\n",
        "            print(total)\n",
        "         \n",
        "fibonaccin(30)"
      ],
      "metadata": {
        "colab": {
          "base_uri": "https://localhost:8080/"
        },
        "id": "cDowL_9Xox1X",
        "outputId": "fdab203a-b403-461e-d874-7dacfe6f6dc6"
      },
      "execution_count": 1,
      "outputs": [
        {
          "output_type": "stream",
          "name": "stdout",
          "text": [
            "0\n",
            "1\n",
            "1\n",
            "2\n",
            "3\n",
            "5\n",
            "8\n",
            "13\n",
            "21\n",
            "34\n",
            "55\n",
            "89\n",
            "144\n",
            "233\n",
            "377\n",
            "610\n",
            "987\n",
            "1597\n",
            "2584\n",
            "4181\n",
            "6765\n",
            "10946\n",
            "17711\n",
            "28657\n",
            "46368\n",
            "75025\n",
            "121393\n",
            "196418\n",
            "317811\n",
            "514229\n"
          ]
        }
      ]
    },
    {
      "cell_type": "code",
      "source": [
        "def fibonaccin(nu):\n",
        "    arr = [0,1]\n",
        "    if nu==1:\n",
        "        print('0')\n",
        "    elif nu==2:\n",
        "        print('[0,','1]')\n",
        "    else:\n",
        "        while(len(arr)<nu):\n",
        "            arr.append(0)\n",
        "        if(nu==0 or nu==1):\n",
        "            return 1\n",
        "        else:\n",
        "            arr[0]=0\n",
        "            arr[1]=1\n",
        "            for i in range(2,nu):\n",
        "                arr[i]=arr[i-1]+arr[i-2]\n",
        "            print(arr)\n",
        "\n",
        "fibonaccin(30)"
      ],
      "metadata": {
        "colab": {
          "base_uri": "https://localhost:8080/"
        },
        "id": "r5EUkqCGo6KH",
        "outputId": "50e20de3-701a-4623-e67f-04b3f4b7197b"
      },
      "execution_count": 2,
      "outputs": [
        {
          "output_type": "stream",
          "name": "stdout",
          "text": [
            "[0, 1, 1, 2, 3, 5, 8, 13, 21, 34, 55, 89, 144, 233, 377, 610, 987, 1597, 2584, 4181, 6765, 10946, 17711, 28657, 46368, 75025, 121393, 196418, 317811, 514229]\n"
          ]
        }
      ]
    },
    {
      "cell_type": "markdown",
      "source": [
        "Ejercicio 3:Calcular la factorial de un número N (siendo N un número que se lee)"
      ],
      "metadata": {
        "id": "VvxEJ4MOpPFQ"
      }
    },
    {
      "cell_type": "code",
      "source": [
        "def factorial(n): \n",
        "     \n",
        "        fact = 1\n",
        "        while(n > 1): \n",
        "            fact *= n\n",
        "            n -= 1\n",
        "        return fact \n",
        "\n",
        "n=int(input(\"Escribe el número del que deseas saber el factorial \")); \n",
        "\n",
        "print(\"El factorial de\",n,\"es\", factorial(n)) "
      ],
      "metadata": {
        "colab": {
          "base_uri": "https://localhost:8080/"
        },
        "id": "sUqtx3_MpULv",
        "outputId": "846a7991-432f-4070-cf40-738b33cfd04e"
      },
      "execution_count": 12,
      "outputs": [
        {
          "output_type": "stream",
          "name": "stdout",
          "text": [
            "Escribe el número del que deseas saber el factorial8\n",
            "El factorial de 8 es 40320\n"
          ]
        }
      ]
    },
    {
      "cell_type": "code",
      "source": [
        "n=int(input(\"Escribe el número del que deseas saber el factorial \"))\n",
        "fact=1\n",
        "for i in range(1,n+1):\n",
        "  fact=fact*i\n",
        "print(\"El factorial de\",n,\"es\",fact) \n",
        "  "
      ],
      "metadata": {
        "colab": {
          "base_uri": "https://localhost:8080/"
        },
        "id": "mndNPj0nrOTA",
        "outputId": "f5286570-7015-4143-e7b6-bd491d3c9d99"
      },
      "execution_count": 14,
      "outputs": [
        {
          "output_type": "stream",
          "name": "stdout",
          "text": [
            "Escribe el número del que deseas saber el factorial 8\n",
            "El factorial de 8 es 40320\n"
          ]
        }
      ]
    },
    {
      "cell_type": "markdown",
      "source": [
        "Ejercicio 6:Mostrar la tabla de multiplicar del número que seleccione el usuario. Revisar que esté en el rango\n",
        "de 1 a 10"
      ],
      "metadata": {
        "id": "ZZqYD56yyKmz"
      }
    },
    {
      "cell_type": "code",
      "source": [
        "n=int(input(\"Que establa desea genear?\"))\n",
        "print(\"Tabla del\" ,n)\n",
        "for i in range(1,11):\n",
        "  print(n,\"x\",i,\"=\",n*i)\n",
        "  "
      ],
      "metadata": {
        "colab": {
          "base_uri": "https://localhost:8080/"
        },
        "id": "_RtcFZRyyM_L",
        "outputId": "6ec24502-3b35-4740-c42d-a18d6378d586"
      },
      "execution_count": 31,
      "outputs": [
        {
          "output_type": "stream",
          "name": "stdout",
          "text": [
            "Que establa desea genear?4\n",
            "Tabla del 4\n",
            "4 x 1 = 4\n",
            "4 x 2 = 8\n",
            "4 x 3 = 12\n",
            "4 x 4 = 16\n",
            "4 x 5 = 20\n",
            "4 x 6 = 24\n",
            "4 x 7 = 28\n",
            "4 x 8 = 32\n",
            "4 x 9 = 36\n",
            "4 x 10 = 40\n"
          ]
        }
      ]
    },
    {
      "cell_type": "markdown",
      "source": [
        "Ejercicio 1:Indicar si un número N es un número primo (siendo N un número que se lee).\n"
      ],
      "metadata": {
        "id": "xd4TptFiziJK"
      }
    },
    {
      "cell_type": "code",
      "source": [
        "x=int(input('digita un número '))\n",
        "def primo(x):\n",
        "  for i in range (2,x):\n",
        "    if x%i == 0:\n",
        "      return False\n",
        "  return True\n",
        "\n",
        "if primo(x)==True:\n",
        "  print(primo(x))\n",
        "  print('Es primo')\n",
        "\n",
        "else:\n",
        "     print(primo(x))\n",
        "     print('No es primo')"
      ],
      "metadata": {
        "colab": {
          "base_uri": "https://localhost:8080/"
        },
        "id": "9kON5BKXzola",
        "outputId": "f68bbc80-2d35-4553-cab5-3c3b9d18d004"
      },
      "execution_count": 36,
      "outputs": [
        {
          "output_type": "stream",
          "name": "stdout",
          "text": [
            "digita un número 6\n",
            "False\n",
            "No es primo\n"
          ]
        }
      ]
    },
    {
      "cell_type": "code",
      "source": [
        "i=int(2)\n",
        "\n",
        "\n",
        "n=int(input('Digita un número '))\n",
        "while(i<n):\n",
        "\n",
        "  if((n%i) == 0):\n",
        "    print(n, 'No es un número primo')\n",
        "    i=n\n",
        "  else:\n",
        "       print(n, 'Es un número primo')\n",
        "       i=i+1"
      ],
      "metadata": {
        "colab": {
          "base_uri": "https://localhost:8080/"
        },
        "id": "Ilprp9xD2CHq",
        "outputId": "e07c4e44-31cd-48ba-8642-00edf9161eca"
      },
      "execution_count": 37,
      "outputs": [
        {
          "output_type": "stream",
          "name": "stdout",
          "text": [
            "Digita un número 5\n",
            "5 Es un número primo\n",
            "5 Es un número primo\n",
            "5 Es un número primo\n"
          ]
        }
      ]
    }
  ]
}