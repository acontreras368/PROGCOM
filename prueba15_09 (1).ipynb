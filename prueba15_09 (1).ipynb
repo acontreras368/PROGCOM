{
  "nbformat": 4,
  "nbformat_minor": 0,
  "metadata": {
    "colab": {
      "provenance": [],
      "collapsed_sections": []
    },
    "kernelspec": {
      "name": "python3",
      "display_name": "Python 3"
    },
    "language_info": {
      "name": "python"
    }
  },
  "cells": [
    {
      "cell_type": "code",
      "execution_count": 15,
      "metadata": {
        "id": "obboev0Qw2TX",
        "colab": {
          "base_uri": "https://localhost:8080/",
          "height": 391
        },
        "outputId": "28ded5cf-1909-49ed-cceb-0c55447ae96f"
      },
      "outputs": [
        {
          "name": "stdout",
          "output_type": "stream",
          "text": [
            "Digita el número de estudiantes del curso1\n",
            "Digita el nombreana\n",
            "Digita la nota de cada estudiante12\n",
            "Digita el número de estudiantes del curso2\n",
            "Digita el nombrepau\n",
            "Digita la nota de cada estudiante13\n",
            "Digita el nombrema\n",
            "Digita la nota de cada estudiante12\n",
            "Digita el número de estudiantes del cursoaaa\n"
          ]
        },
        {
          "output_type": "error",
          "ename": "ValueError",
          "evalue": "ignored",
          "traceback": [
            "\u001b[0;31m---------------------------------------------------------------------------\u001b[0m",
            "\u001b[0;31mValueError\u001b[0m                                Traceback (most recent call last)",
            "\u001b[0;32m<ipython-input-15-89fd1a71eb4f>\u001b[0m in \u001b[0;36m<module>\u001b[0;34m\u001b[0m\n\u001b[1;32m     19\u001b[0m \u001b[0mopnota2\u001b[0m\u001b[0;34m=\u001b[0m\u001b[0msum\u001b[0m\u001b[0;34m(\u001b[0m\u001b[0mn2\u001b[0m\u001b[0;34m)\u001b[0m\u001b[0;34m\u001b[0m\u001b[0;34m\u001b[0m\u001b[0m\n\u001b[1;32m     20\u001b[0m \u001b[0;34m\u001b[0m\u001b[0m\n\u001b[0;32m---> 21\u001b[0;31m \u001b[0mnumest3\u001b[0m\u001b[0;34m=\u001b[0m\u001b[0mint\u001b[0m\u001b[0;34m(\u001b[0m\u001b[0minput\u001b[0m\u001b[0;34m(\u001b[0m\u001b[0;34m\"Digita el número de estudiantes del curso\"\u001b[0m\u001b[0;34m)\u001b[0m\u001b[0;34m)\u001b[0m\u001b[0;34m\u001b[0m\u001b[0;34m\u001b[0m\u001b[0m\n\u001b[0m\u001b[1;32m     22\u001b[0m \u001b[0mg3\u001b[0m\u001b[0;34m=\u001b[0m\u001b[0;34m[\u001b[0m\u001b[0;34m]\u001b[0m\u001b[0;34m\u001b[0m\u001b[0;34m\u001b[0m\u001b[0m\n\u001b[1;32m     23\u001b[0m \u001b[0mn3\u001b[0m\u001b[0;34m=\u001b[0m\u001b[0;34m[\u001b[0m\u001b[0;34m]\u001b[0m\u001b[0;34m\u001b[0m\u001b[0;34m\u001b[0m\u001b[0m\n",
            "\u001b[0;31mValueError\u001b[0m: invalid literal for int() with base 10: 'aaa'"
          ]
        }
      ],
      "source": [
        "\n",
        "numest1=int(input(\"Digita el número de estudiantes del curso\"))\n",
        "g1=[]\n",
        "n1=[]\n",
        "for i in range (0,numest1):\n",
        "  est1=input(\"Digita el nombre\")\n",
        "  nota1=int(input(\"Digita la nota de cada estudiante\"))\n",
        "  g1.append(est1)\n",
        "  n1.append(nota1)\n",
        "opnota1=sum(n1)\n",
        "\n",
        "numest2=int(input(\"Digita el número de estudiantes del curso\"))\n",
        "g2=[]\n",
        "n2=[]\n",
        "for i in range (0,numest2):\n",
        "  est2=input(\"Digita el nombre\")\n",
        "  nota2=int(input(\"Digita la nota de cada estudiante\"))\n",
        "  g2.append(est2)\n",
        "  n2.append(nota2)\n",
        "opnota2=sum(n2)\n",
        "\n",
        "numest3=int(input(\"Digita el número de estudiantes del curso\"))\n",
        "g3=[]\n",
        "n3=[]\n",
        "for i in range (0,numest3):\n",
        "  est3=input(\"Digita el nombre\")\n",
        "  nota3=int(input(\"Digita la nota de cada estudiante\"))\n",
        "  g3.append(est3)\n",
        "  n3.append(nota3)\n",
        "opnota3=sum(n3)\n",
        "\n",
        "optotal=(opnota1+opnota2+opnota3)\n",
        "pro1=(opnota1/numest1)\n",
        "pro2=(opnota2/numest2)\n",
        "pro3=(opnota3/numest3)\n",
        "\n",
        "promediototal=(optotal/(numest1+numest2+numest3))\n",
        "print(\"El promedio del grupo 1 es \",pro1)\n",
        "print(\"El promedio del grupo 2 es \",pro2)\n",
        "print(\"El promedio del grupo 3 es \",pro3)\n",
        "print(\"El promedio de todos los grupos es \",promediototal)\n",
        "\n",
        "\n"
      ]
    }
  ]
}