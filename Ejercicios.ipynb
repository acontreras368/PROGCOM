{
  "nbformat": 4,
  "nbformat_minor": 0,
  "metadata": {
    "colab": {
      "name": "Ejercicios",
      "provenance": [],
      "toc_visible": true,
      "collapsed_sections": []
    },
    "kernelspec": {
      "name": "python3",
      "display_name": "Python 3"
    },
    "language_info": {
      "name": "python"
    }
  },
  "cells": [
    {
      "cell_type": "markdown",
      "source": [
        "Ana Sofía Contreras Rivera\n",
        "\n"
      ],
      "metadata": {
        "id": "3VT-ozrVxZhi"
      }
    },
    {
      "cell_type": "markdown",
      "source": [
        "Ejercicio 1: 1.\tEscriba un programa que solicite dos números enteros y calcule su división. El programa debe definir si la división es exacta o no. Si no es exacta, debe imprimir cuál es su residuo. ¿Qué debería imprimir el programa si la división es entre cero?"
      ],
      "metadata": {
        "id": "4or8371Wxe4x"
      }
    },
    {
      "cell_type": "code",
      "source": [
        "print (\"¡Hola!\")\n",
        "dividendo=int(input(\"Por favor digita el dividendo, tiene que ser un número entero \"))\n",
        "divisor=int(input(\"Por favor digita el divisor, tiene que ser un número entero \"))\n",
        "\n",
        "if dividendo%divisor==0:\n",
        "  print (\"La división es exacta\")\n",
        "else:\n",
        "    print (\"La divisón es inexacta\" f\" el residuo es {dividendo%divisor}\") \n",
        "if divisor==0:\n",
        "  print(\"No se puede realizar una división donde el divisor sea cero, por favor cambia de número\")\n"
      ],
      "metadata": {
        "colab": {
          "base_uri": "https://localhost:8080/"
        },
        "id": "Do2aSgcdxkGZ",
        "outputId": "210866f3-ec96-4860-8906-1a9d2ed8511b"
      },
      "execution_count": null,
      "outputs": [
        {
          "output_type": "stream",
          "name": "stdout",
          "text": [
            "¡Hola!\n",
            "Por favor digita el dividendo, tiene que ser un número entero 12\n",
            "Por favor digita el divisor, tiene que ser un número entero 3\n",
            "La división es exacta\n"
          ]
        }
      ]
    },
    {
      "cell_type": "markdown",
      "source": [
        "Ejercicio 2:2.\tEscriba un programa que pida dos números e indique si uno es múltiplo del otro."
      ],
      "metadata": {
        "id": "7ry8t-NS1nwR"
      }
    },
    {
      "cell_type": "code",
      "source": [
        "print (\"¡Hola!\")\n",
        "n=int(input(\"Por favor digita el número que quieres saber si es múltiplo \"))\n",
        "multiplo=int(input(\"Por favor digita el número del que quieres saber si es múltiplo el anterior número\" ))\n",
        "if n%multiplo==0:\n",
        "  print (f\"{n} es múltiplo de {multiplo}\")"
      ],
      "metadata": {
        "colab": {
          "base_uri": "https://localhost:8080/"
        },
        "id": "PGE0cu5O1siG",
        "outputId": "95d1ab46-f07a-4147-dbcb-599c4e714cb7"
      },
      "execution_count": null,
      "outputs": [
        {
          "output_type": "stream",
          "name": "stdout",
          "text": [
            "¡Hola!\n",
            "Por favor digita el número que quieres saber si es múltiplo 12\n",
            "Por favor digita el número del que quieres saber si es múltiplo el anterior número3\n",
            "12 es múltiplo de 3\n"
          ]
        }
      ]
    },
    {
      "cell_type": "markdown",
      "source": [
        "Ejercicio 3:3.\tEscriba un programa que ordene, de menor a mayor, las edades de tres hermanos. ¿Qué pasaría si son gemelos? ¿Qué pasaría si son trillizos?"
      ],
      "metadata": {
        "id": "CoKs9jib4J9a"
      }
    },
    {
      "cell_type": "code",
      "source": [
        "print (\"¡Hola!\")\n",
        "e1=int(input(\"Hermano 1, por favor digita tu edad \"))\n",
        "e2=int(input(\"Hermano 2, por favor digita tu edad \"))\n",
        "e3=int(input(\"Hermano 3, por favor digita tu edad \"))\n",
        "if e1==e2==e3:\n",
        "  print (\"Los hermanos tienen la misma edad\")\n",
        "\n",
        "if e1==e2:\n",
        "  print(\"La edad de los hermanos 1 y 2 es igual, la edad del hermano 3 es \",e3)\n",
        "if e1==e3:\n",
        "  print (\"La edad de los hermanos 1 y 3 es igual, la edad del hermano 2 es \",e2)\n",
        "if e2==e3:\n",
        "  print (\"La edad de los hermanos 2 y 3 es igual, la edad del hermano 1 es \",e1)\n",
        "if e1!=e2!=e3:\n",
        "    lista=[e1,e2,e3]\n",
        "    lista.sort()\n",
        "    print (\"La edad de los hermanos ordenada de menor a mayor es \", lista)\n"
      ],
      "metadata": {
        "colab": {
          "base_uri": "https://localhost:8080/"
        },
        "id": "w8WJRIAV4O0i",
        "outputId": "c6da130a-f343-4346-ba10-720ff99e9203"
      },
      "execution_count": null,
      "outputs": [
        {
          "output_type": "stream",
          "name": "stdout",
          "text": [
            "¡Hola!\n",
            "Hermano 1, por favor digita tu edad 1\n",
            "Hermano 2, por favor digita tu edad 9\n",
            "Hermano 3, por favor digita tu edad 8\n",
            "La edad de los hermanos ordenada de menor a mayor es  [1, 8, 9]\n"
          ]
        }
      ]
    },
    {
      "cell_type": "markdown",
      "source": [
        "Ejercicio 4:4.\tDIAN le ha contratado para identificar si una persona debe pagar impuesto de renta o no. ¿Qué datos debería suministrar? Escriba un programa con su solución."
      ],
      "metadata": {
        "id": "VE-GlvNaD9xr"
      }
    },
    {
      "cell_type": "code",
      "source": [
        "print (\"¡Hola!\")\n",
        "print(\"Este es el cuestionario para determinar si debes pagar impuesto de resta o no\")\n",
        "nombre=str(input(\"Por favor digita tu nombre \"))\n",
        "cc=int(input(\"Por favor digita tu número de cédula \"))\n",
        "salario=int(input(\"Por favor digita de cuanto es tu salario en pesos colombianos \"))\n",
        "propiedades=int(input(\"Por favor digita la cantidad de propiedades que tienes \"))\n",
        "if salario>10000000 and propiedades>5:\n",
        "  print(\"Apreciad@\" f\" {nombre} \" \"tienes que pagar impuesto de renta ya que tu salario supera los 10000000 y tienes mas de 5 propiedades\")"
      ],
      "metadata": {
        "colab": {
          "base_uri": "https://localhost:8080/"
        },
        "id": "AOJrtZoREEAA",
        "outputId": "ab8ab6e2-840a-409e-a233-8a36c09af209"
      },
      "execution_count": null,
      "outputs": [
        {
          "output_type": "stream",
          "name": "stdout",
          "text": [
            "¡Hola!\n",
            "Este es el cuestionario para determinar si debes pagar impuesto de resta o no\n",
            "Por favor digita tu nombreCamila\n",
            "Por favor digita tu número de cédula1097093034\n",
            "Por favor digita de cuanto es tu salario en pesos colombianos12000000\n",
            "Por favor digita la cantidad de propiedades que tienes6\n",
            "Apreciad@ Camila tiene que pagar impuesto de renta ya que su salario supera los 10000000 y tiene mas de 5 propiedades\n"
          ]
        }
      ]
    },
    {
      "cell_type": "markdown",
      "source": [
        "Ejercicio 5: 5.\tEscriba un programa que, de acuerdo al código del estudiante, defina a qué universidad pertenece. \n",
        "a.\tSi el código empieza con U y tiene 8 dígitos, pertenece a la UNAB\n",
        "b.\tSi los cuatro primeros dígitos es mayor a 1950 , pertenece a la UIS.\n",
        "c.\tSi el código empieza con A y tres ceros seguidos, pertenece a los ANDES.\n",
        "d.\t1000 exp. adicional: Si el código de la UNAB termina en 26, debe imprimir que es ingeniero electrónico. Si termina en 32, ingeniero de sistemas. Si termina en 50, pertenece a ingeniería de administración de empresas. \n",
        "e.\t1000 xp. Adicional: Defina códigos con los dos últimos caracteres para la UIS y ANDES, de las mismas carreras.\n"
      ],
      "metadata": {
        "id": "H1Pqs-XuHWGv"
      }
    },
    {
      "cell_type": "code",
      "source": [
        "print(\"¡Hola!, con este programa se podrá determinar a que universidad o carrera perteneces\")\n",
        "print(\"Por favor ingresa tu código (la primera letra debe ir en mayúscula): \")\n",
        "\n",
        "cod=str(input(\"\"))\n",
        "let=list(cod.upper())\n",
        "clase1=\"\"\n",
        "if len(let)==9:\n",
        "    for n in range (1,9):\n",
        "        cont=0\n",
        "        for s in range (1,9):\n",
        "            if let[s].isdigit() == True:\n",
        "              cont=cont+1\n",
        "def carrera():\n",
        "    for j in range(0,9):\n",
        "            if int(let[7])==2 and int(let[8])==6:\n",
        "                clase1=\"Ingeniero Electronico\"\n",
        "            elif int(let[7])==5 and int(let[8])== 0:\n",
        "                clase1=\"Ingeniero En Administración De Empresas\"\n",
        "            elif int(let[7])==3 and int(let[8])== 2:\n",
        "                clase1=\"Ingeniero De Sistemas\"\n",
        "            \n",
        "            else:\n",
        "                clase1=\"\"\n",
        "    print(clase1);\n",
        "\n",
        "if int(let[1])>=1 and int(let[2])== 9 and int(let[3])>=5 and int(let[4])>0:\n",
        "    clase=\"Eres estudiante UIS\"\n",
        "    carrera();\n",
        "if let[0]=='A' and int(let[1])==0 and int(let[2])==0 and int(let[3])==0:\n",
        "    clase=\"Eres estudiante ANDES\"\n",
        "    carrera();\n",
        "if let[0]=='U' and cont==8 and int(let[1])!=1 and int(let[3])!= 9:\n",
        "    clase=\"Eres estudiante UNAB\"\n",
        "    carrera();  \n",
        "\n",
        "\n",
        "print(clase)"
      ],
      "metadata": {
        "id": "cVDbJ98OFauz",
        "colab": {
          "base_uri": "https://localhost:8080/"
        },
        "outputId": "1b9cfea9-b190-46fc-8215-1a92c116e405"
      },
      "execution_count": null,
      "outputs": [
        {
          "output_type": "stream",
          "name": "stdout",
          "text": [
            "¡Hola!, con este programa se podrá determinar a que universidad o carrera perteneces\n",
            "Por favor ingresa tu código (la primera letra debe ir en mayúscula): \n",
            "U00155726\n",
            "Ingeniero Electronico\n",
            "Eres estudiante UNAB\n"
          ]
        }
      ]
    },
    {
      "cell_type": "markdown",
      "source": [
        "Ejercicio 6: 6.\t Escriba un programa que le pregunte sus cuatro notas y calcule su promedio actual. Si su promedio es mayor a 4.5, se le diga que está eximido del último examen. Si su nota se encuentra entre 3.5 y 4.5 (intervalo abierto) se le indique que debe presentar el examen. Si la nota se encuentra entre 3 y 3.5 (intervalo abierto), se le indique que adicional al examen, debe presentar un trabajo. Si la nota está entre intervalo abierto entre 2 y 3, decir que debe presentar habilitación. De lo contrario, se le debe indicar al estudiante que perdió la materia irremediablemente."
      ],
      "metadata": {
        "id": "IwBrjEN9FbMh"
      }
    },
    {
      "cell_type": "code",
      "source": [
        "print(\"¡Hola!\")\n",
        "print(\"Con este programa podrás saber la nota de tu promedio y lo que implica\")\n",
        "n1=float(input(\"Por favor digita tu nota 1 \"))\n",
        "n2=float(input(\"Por favor digita tu nota 2 \"))\n",
        "n3=float(input(\"Por favor digita tu nota 3 \"))\n",
        "n4=float(input(\"Por favor digita tu nota 4 \"))\n",
        "prom=float((n1+n2+n3+n4)/4)\n",
        "print(\"Tu promedio es: \",prom)\n",
        "\n",
        "if prom>45:\n",
        "  print(\"No debes hacer el exámen final\")\n",
        "if 35 < prom < 45:\n",
        "  print(\"Debes hacer el exámen final\")\n",
        "if 30< prom <35:\n",
        "  print (\"Además de presentar el exámen final debes entregar un trabajo extra\")\n",
        "if 20 < prom < 30:\n",
        "  print(\"Debes presentar una habilitación\")\n",
        "if prom<20:\n",
        "  print(\"Perdiste la materia irremediablemente11\")\n",
        "\n"
      ],
      "metadata": {
        "colab": {
          "base_uri": "https://localhost:8080/"
        },
        "id": "pZdgY44OFfzH",
        "outputId": "f0c7e5ca-ee50-4335-9051-c0f06f01809e"
      },
      "execution_count": null,
      "outputs": [
        {
          "output_type": "stream",
          "name": "stdout",
          "text": [
            "¡Hola!\n",
            "Con este programa podrás saber la nota de tu promedio y lo que implica\n",
            "Por favor digita tu nota 1 10\n",
            "Por favor digita tu nota 2 10\n",
            "Por favor digita tu nota 3 0\n",
            "Por favor digita tu nota 4 10\n",
            "Tu promedio es:  7.5\n",
            "Perdiste la materia irremediablemente\n"
          ]
        }
      ]
    },
    {
      "cell_type": "markdown",
      "source": [
        "Ejercico 7: 7.\tEscriba un programa que pregunte tu fecha de nacimiento, e indique cuántos días faltan para tu cumpleaños y cuántos años tienes."
      ],
      "metadata": {
        "id": "NP8NkRefOTRM"
      }
    },
    {
      "cell_type": "code",
      "source": [
        "from datetime import date, time, datetime \n",
        "print(\"¡Hola!\")\n",
        "print(\"En este programa lograrás saber cuantos días faltan para tu cumpleaños y cuantos años tienes\")\n",
        "print(\"Digita tu fecha de nacimiento de esta forma: día/mes/año)\")\n",
        "val1=str(input(\"\"))\n",
        "print(\"Digita la fecha de tu proximo cumpleaños de esta forma: día/mes/año)\")\n",
        "val2=str(input(\"\"))\n",
        "f1=datetime.strptime(val1,'%d/%m/%Y')\n",
        "f2=datetime.now()\n",
        "f3=datetime.strptime(val2,'%d/%m/%Y')\n",
        "ff1=(f3-f2)\n",
        "ff2=f2-f1\n",
        "print(\"Tu edad es :\",int(ff2.days/365),\"años\")\n",
        "print(\"Faltan\",ff1.days,\"días para tu cumpleaños :)\")"
      ],
      "metadata": {
        "colab": {
          "base_uri": "https://localhost:8080/"
        },
        "id": "TESo-dLSURDq",
        "outputId": "abe6feb8-e279-4036-fd74-77d2bd492c02"
      },
      "execution_count": null,
      "outputs": [
        {
          "output_type": "stream",
          "name": "stdout",
          "text": [
            "¡Hola!\n",
            "En este programa lograrás saber cuantos días faltan para tu cumpleaños y cuantos años tienes\n",
            "Digita tu fecha de nacimiento de esta forma: día/mes/año)\n",
            "14/7/2004\n",
            "Digita la fecha de tu proximo cumpleaños de esta forma: día/mes/año)\n",
            "14/7/2023\n",
            "Tu edad es : 18 años\n",
            "Faltan 334 días para tu cumpleaños :)\n"
          ]
        }
      ]
    },
    {
      "cell_type": "markdown",
      "source": [
        "Ejercicio 8:8.\tEscriba un programa que defina si un número es bisiesto. (Un año es bisiesto cuando son múltiplos de 4, pero no son múltiplos de 100."
      ],
      "metadata": {
        "id": "oIcOdCuqURLH"
      }
    },
    {
      "cell_type": "code",
      "source": [
        "print(\"¡Hola!\")\n",
        "print(\"Mediante este programa lograrás saber si el año que digites es bisiesto o no\")\n",
        "año=int(input(\"Digita el año que quieres saber si es bisiesto o no \"))\n",
        "\n",
        "if año % 4 == 0 and (año % 100 != 0 or año % 400 == 0):\n",
        "\tprint(\"El año \" f\"{año}\" \" es bisiesto\")\n",
        "else:\n",
        "\tprint(\"El año \" f\"{año}\" \" no es bisiesto\")"
      ],
      "metadata": {
        "colab": {
          "base_uri": "https://localhost:8080/"
        },
        "id": "0EBnomNdUUaq",
        "outputId": "2bf832ce-3fe9-484c-eb9e-1cb904376617"
      },
      "execution_count": null,
      "outputs": [
        {
          "output_type": "stream",
          "name": "stdout",
          "text": [
            "¡Hola!\n",
            "Mediante este programa lograrás saber si el año que digites es biciesto o no\n",
            "digita el año que quieres saber si es bisiesto o no2016\n",
            "El año 2016 es bisiesto\n"
          ]
        }
      ]
    },
    {
      "cell_type": "markdown",
      "source": [
        "Ejercicio 9:9.\tEscriba un programa que solicite los coeficientes de la ecuación de la recta ax+b=0 y escriba la solución."
      ],
      "metadata": {
        "id": "MdZQkN0CVwT0"
      }
    },
    {
      "cell_type": "code",
      "source": [
        "print(\"La ecuacion de la recta es ax+b=0\")\n",
        "a=float(input(\"Digita el coeficiente de a \"))\n",
        "b=float(input(\"Digita el coeficiente de b \"))\n",
        "x=(-b/a)\n",
        "print(\"El valor de x según el despeje de la ecuación ax+b=0 con los coeficientes digitados es: \",x)"
      ],
      "metadata": {
        "id": "yHZXEW0MbM97"
      },
      "execution_count": null,
      "outputs": []
    },
    {
      "cell_type": "markdown",
      "source": [
        "Ejercicio 10:10.\tEscriba un programa que halle la pendiente de la recta ax+b=c.  "
      ],
      "metadata": {
        "id": "AbYFlisibVkj"
      }
    },
    {
      "cell_type": "code",
      "source": [
        "print(\"¡Hola!\")\n",
        "print(\"Mediante este programa hallarás la pendiente de la recta ax+b=c\")\n",
        "x=float(input(\"Ingresa el valor de x \"))\n",
        "b=float(input(\"Ingresa el coeficiente de b \"))\n",
        "c=float(input(\"Ingresa el coeficiente de c \"))\n",
        "a=((c-b)/x)\n",
        "print(\"El valor de la pendiente es: \",a)\n",
        "\n"
      ],
      "metadata": {
        "id": "tSq0ZX9nchu7",
        "colab": {
          "base_uri": "https://localhost:8080/"
        },
        "outputId": "374da5c1-7f33-4cde-fdc1-99cc2543be2c"
      },
      "execution_count": null,
      "outputs": [
        {
          "output_type": "stream",
          "name": "stdout",
          "text": [
            "¡Hola!\n",
            "Mediante este programa hallarás la pendiente de la recta ax+b=c\n",
            "Ingresa el valor de x3\n",
            "Ingresa el coeficiente de b4\n",
            "Ingresa el coeficiente de c5\n",
            "El valor de la pendiente es:  0.3333333333333333\n"
          ]
        }
      ]
    },
    {
      "cell_type": "markdown",
      "source": [
        "Ejercicio 11:11.\tEscriba un programa que pida los coeficientes de una ecuación de segundo grado (a x² + b x + c = 0) y escriba la solución.Se recuerda que una ecuación de segundo grado puede no tener solución, tener una solución única, tener dos soluciones o que todos los números sean solución. Se recuerda que la fórmula de las soluciones cuando hay dos soluciones es x = (-b ± √(b2-4ac) ) / (2a)"
      ],
      "metadata": {
        "id": "5suzFG2Ech5N"
      }
    },
    {
      "cell_type": "code",
      "source": [
        "print(\"¡Hola!\")\n",
        "print(\"Mediante este programa podrás saber las soluciones de una ecuación de segundo grado2\")\n",
        "from math import sqrt\n",
        "A = int(input(\"Digita el coeficiente de la variable cuadrática \"))\n",
        "B = int(input(\"Digita el coeficiente de la variable lineal \"))\n",
        "C = int(input(\"Digita el valor del término independiente \"))\n",
        "\n",
        "if ((B**2)-4*A*C) < 0:\n",
        "  print(\"La solución de la ecuación es con números imaginarios\")\n",
        "else:\n",
        " \n",
        "  x1 = (-B+sqrt(B**2-(4*A*C)))/(2*A)\n",
        "  x2 = (-B-sqrt(B**2-(4*A*C)))/(2*A)\n",
        "  print(\"Las soluciones de la ecuación son:\")\n",
        "  print(x1)\n",
        "  print(x2)"
      ],
      "metadata": {
        "colab": {
          "base_uri": "https://localhost:8080/"
        },
        "id": "heRV8x35cldy",
        "outputId": "2e21f8bd-9cde-4b91-8ea6-8a892e551779"
      },
      "execution_count": null,
      "outputs": [
        {
          "output_type": "stream",
          "name": "stdout",
          "text": [
            "Digita el coeficiente de la variable cuadrática2\n",
            "Digita el coeficiente de la variable lineal7\n",
            "Digita el valor del término independiente3\n",
            "Las soluciones de la ecuación son:\n",
            "-0.5\n",
            "-3.0\n"
          ]
        }
      ]
    },
    {
      "cell_type": "markdown",
      "source": [
        "Ejercicio 12:12.\tEscriba un programa que sirva para evaluar si un estudiante sabe sumar, restar, multiplicar o dividir. Para ello, debe\n",
        "a.\tSolicitarle al usuario qué operación desea probar\n",
        "b.\tLa operación que aparecerá deberá tener dos números aleatorios.\n",
        "c.\tEl programa definirá si el usuario acertó, o no.\n"
      ],
      "metadata": {
        "id": "-URaFP9ccl9q"
      }
    },
    {
      "cell_type": "code",
      "source": [
        "import random\n",
        "val1= int(random.uniform(1,99))\n",
        "val2= int(random.uniform(1,99))\n",
        "\n",
        "print(\"Suma +\")\n",
        "print(\"Resta -\")\n",
        "print(\"Multiplicación *\")\n",
        "print(\"División /\")\n",
        "\n",
        "simb=input(\"Digita el símbolo que quieras realizar según el menú de arriba\")\n",
        "\n",
        "if simb == \"+\":\n",
        "    print(\"Suma:\",val1,\"+\",val2)\n",
        "    result= val1 + val2\n",
        "    resultp= float(input(\"Digita el resultado de la operación: \"))\n",
        "    if result == resultp:\n",
        "        print(\"Felicidades, el resultado es correcto\")\n",
        "        print(result)\n",
        "    else:\n",
        "        print(\"El resultado es incorrecto :( \")\n",
        "        print(\"El resultado correcto es: \",result)\n",
        "elif simb == \"-\":\n",
        "    print(\"Reste:\",val1,\"-\",val2)\n",
        "    result= val1 - val2\n",
        "    resultp= float(input(\"Digita el resultado de la operación: \"))\n",
        "    if result == resultp:\n",
        "        print(\"Felicidades, el resultado es correcto\")\n",
        "        print(result)\n",
        "    else:\n",
        "        print(\"El resultado es incorrecto:(\")\n",
        "        print(\"El resultado correcto es: \",result)\n",
        "elif simb == \"*\":\n",
        "    print(\"Multiplique:\",val1,\"*\",val2)\n",
        "    result= val1 * val2\n",
        "    resultadoPer= float(input(\"Digita el resultado de la operación: \"))\n",
        "    if result == resultp:\n",
        "        print(\"Felicidades, el resultado es correcto\")\n",
        "        print(result)\n",
        "    else:\n",
        "        print(\"El resultado es incorrecto:(\")\n",
        "        print(\"El resultado correcto es: \",result)\n",
        "elif simb == \"/\":\n",
        "    print(\"Divida:\",val1,\"/\",val2)\n",
        "    result= val1 / val2\n",
        "    resultp= float(input(\"Digita el resultado de la operación: \"))\n",
        "    if result == resultp:\n",
        "        print(\"Felicidades, el resultado es correcto\")\n",
        "        print(result)\n",
        "    else:\n",
        "        print(\"El resultado es incorrecto:(\")\n",
        "        print(\"El resultado correcto es: \",result)"
      ],
      "metadata": {
        "colab": {
          "base_uri": "https://localhost:8080/"
        },
        "id": "XrCIZTMGctLM",
        "outputId": "14224d61-d075-49fb-9518-a4b415de72df"
      },
      "execution_count": null,
      "outputs": [
        {
          "output_type": "stream",
          "name": "stdout",
          "text": [
            "Suma +\n",
            "Resta -\n",
            "Multiplicación *\n",
            "División /\n",
            "Digita el símbolo que quieras realizar según el menú de arriba+\n",
            "Suma: 66 + 62\n",
            "Digita el resultado de la operación: 110\n",
            "El resultado es incorrecto :( \n",
            "El resultado correcto es:  128\n"
          ]
        }
      ]
    },
    {
      "cell_type": "markdown",
      "source": [
        "Ejercicio 13:13.\tRealizar programa que permita convertir:\n",
        "a.\tcm a metros\n",
        "b.\tcm a km\n",
        "c.\tmetros a km\n",
        "d.\tkm a cm\n",
        "e.\tkm a  m."
      ],
      "metadata": {
        "id": "YEFTJYJqctWa"
      }
    },
    {
      "cell_type": "code",
      "source": [
        "print(\"¡Hola!\")\n",
        "print(\"Con este programa podrás hacer conversiones de unidades\")\n",
        "med=float(input(\"Digita la medida que quieres convertir\"))\n",
        "print(\"a(si quieres convertir de cm a m)\"), print( \"b(si quieres convertir de cm a km)\"), print(\"c(si quieres convertir de m a km)\"), print(\"d( si quieres convertir de km a cm)\"),print(\"e(si quieres convertir de km a m)\");\n",
        "op=str(input(\"Digita a b c d o e según el menú anterior \" ))\n",
        "if op==\"a\":\n",
        "  conv=med/100\n",
        "  print(\"El resultado de la conversión de cm a m es: \",conv)\n",
        "if op==\"b\":\n",
        "  conv=med/100000\n",
        "  print(\"El resultado de la conversión de cm a km es: \",conv)\n",
        "if op==\"c\":\n",
        "  conv=med/1000\n",
        "  print(\"El resultado de la conversión de m a k es: \",conv)\n",
        "if op==\"d\":\n",
        "  conv=med*100000\n",
        "  print(\"El resultado de la conversión de m a cm es: \",conv)\n",
        "if op==\"e\":\n",
        "  conv=med*1000\n",
        "  print(\"El resultado de la conversión de km a m es: \",conv)"
      ],
      "metadata": {
        "colab": {
          "base_uri": "https://localhost:8080/"
        },
        "id": "AdxzdXvHc0Vp",
        "outputId": "42404733-b106-4a79-fd5f-eec54b32c5a1"
      },
      "execution_count": null,
      "outputs": [
        {
          "output_type": "stream",
          "name": "stdout",
          "text": [
            "¡Hola!\n",
            "Con este programa podrás hacer conversiones de unidades\n",
            "Digita la medida que quieres convertir30\n",
            "a(si quieres convertir de cm a m)\n",
            "b(si quieres convertir de cm a km)\n",
            "c(si quieres convertir de m a km)\n",
            "d( si quieres convertir de km a cm)\n",
            "e(si quieres convertir de km a m)\n",
            "Digita a b c d o e según el menú anteiora\n",
            "El resultado de la conversión de cm a m es:  0.3\n"
          ]
        }
      ]
    },
    {
      "cell_type": "markdown",
      "source": [
        "Ejercicio 14: 14.\tRealizar un programa que solicite al usuario que escriba una letra, y defina si es vocal o consonante. El programa no debe funcionar (o indicar que es un error) si se intenta ingresar más de una letra o un número."
      ],
      "metadata": {
        "id": "Vdyo5avYh1tR"
      }
    },
    {
      "cell_type": "code",
      "source": [
        "print(\"¡Hola, en ese programa podrás saber si la letra que ingresas es vocal o consonante!\")\n",
        "letra=input(\"Por favor digita una letra: \").lower()\n",
        "import re\n",
        "#letra=letra.lower()\n",
        "if letra==\"a\" or letra==\"e\" or letra==\"i\" or letra==\"o\" or letra==\"u\":\n",
        "    print(\"La letra que ingresaste es una vocal\")\n",
        "if letra==\"b\" or letra==\"c\" or letra==\"d\" or letra==\"f\" or letra==\"g\" or letra==\"h\" or letra==\"j\" or letra==\"k\" or letra==\"l\" or letra==\"m\" or letra==\"ñ\" or letra==\"n\" or letra==\"p\" or  letra==\"q\" or letra==\"r\" or letra==\"s\" or letra==\"t\" or letra==\"v\" or letra==\"w\" or letra==\"x\" or letra==\"y\" or letra==\"z\":      \n",
        "    print(\"La letra que ingresaste es una consonante\")\n",
        "\n",
        "num= re.compile(r'^\\-?[1-9][0-9]*$')\n",
        "comb = re.match(num,letra)\n",
        "\n",
        "if comb: print(\"ERROR, ingresaste un número, no una letra\")\n",
        "if len(letra)>1:\n",
        "  print(\"ERROR, colocaste mas de 1 letra\")"
      ],
      "metadata": {
        "id": "39eJ7sOkkcwd",
        "colab": {
          "base_uri": "https://localhost:8080/"
        },
        "outputId": "2b56aa04-11c9-4ce5-e839-99b77d973e0e"
      },
      "execution_count": null,
      "outputs": [
        {
          "output_type": "stream",
          "name": "stdout",
          "text": [
            "¡Hola, en ese programa podrás saber si la letra que ingresas es vocal o consonante!\n",
            "Por favor digita una letra: a\n",
            "La letra que ingresaste es una vocal\n"
          ]
        }
      ]
    },
    {
      "cell_type": "markdown",
      "source": [
        "Ejercicio 15:15.\tEscribir un programa que, dado un número entero, muestre su valor absoluto. "
      ],
      "metadata": {
        "id": "a1eEt4dPoi6q"
      }
    },
    {
      "cell_type": "code",
      "source": [
        "print(\"¡Hola!\")\n",
        "print(\"Con este programa lograrás saber el valor absoluto de un número\")\n",
        "num=float(input(\"Digita un número del que quieras saber el valor absoluto\"))\n",
        "if num>=0:\n",
        "  absoluto=num\n",
        "  print(\"El valor absoluto del número que digitaste es \",num)\n",
        "else:\n",
        "  absoluto= abs(num)\n",
        "  print(\"El valor absoluto del número que digitaste es\")\n",
        "  print(absoluto)\n"
      ],
      "metadata": {
        "colab": {
          "base_uri": "https://localhost:8080/"
        },
        "id": "x0TVsfiKpIpB",
        "outputId": "9374ccc3-da15-46c6-f846-cd776c902428"
      },
      "execution_count": null,
      "outputs": [
        {
          "output_type": "stream",
          "name": "stdout",
          "text": [
            "¡Hola!\n",
            "Con este programa lograrás saber el valor absoluto de un número\n",
            "Digita un número del que quieras saber el valor absoluto-8\n",
            "El valor absoluto del número que digitaste es\n",
            "8.0\n"
          ]
        }
      ]
    },
    {
      "cell_type": "markdown",
      "source": [
        "Ejercicio 16:16.\tRealizar un programa que solicite al usuario que ingrese los nombres de dos usuarios los cuáles se almacenarán en user1 y user2. A continuación, imprimir “coincidencia” si los nombres de ambas personas comienzan con la misma letra o si terminan con la misma letra. Si no es así, imprimir “no hay coincidencia”."
      ],
      "metadata": {
        "id": "mBjvMF_6qe-X"
      }
    },
    {
      "cell_type": "code",
      "source": [
        "print(\"¡Hola!\")\n",
        "print(\"Mediante este programa vas a poder comprar 2 nombres\")\n",
        "user1=str(input(\"Usuario 1, por favor digita tu nombre: \"))\n",
        "user2=str(input(\"Usuario 2, por favor digita tu nombre:  \"))\n",
        "\n",
        "val1=list(user1)\n",
        "val2=list(user2)\n",
        "\n",
        "def comprobacion ():\n",
        "    val1=list(user1)\n",
        "    val2=list(user2)\n",
        "    for i in range(-1,1):\n",
        "        counter=0\n",
        "        for j in range(-1,1):\n",
        "            if val1[-1] == val2[-1] or val1[0] == val2[0]:\n",
        "                counter+=1;\n",
        "            else:\n",
        "                counter=counter\n",
        "        \n",
        "        if counter >= 1:\n",
        "          print(\"Hay coincidencia en los 2 nombres\")\n",
        "            \n",
        "        else:\n",
        "          print(\"No hay coincidencia\")\n",
        "            \n",
        "        return;\n",
        "comprobacion();"
      ],
      "metadata": {
        "id": "jwpCHv_srJl3"
      },
      "execution_count": null,
      "outputs": []
    },
    {
      "cell_type": "markdown",
      "source": [
        "Ejercicio 17:17.\tEscribir un programa que le permita al usuario elegir un candidato por el cual votar: Candidato A por el partido Alfa, Candidato B, por el partido Beta, Candidato C por el partido gamma. Cuando el usuario introduce A, B o C, deberá imprimir por cuál candidato y partido ha votado. Si el usuario introduce otra letra, el programa debe indicarle que ha cometido un error."
      ],
      "metadata": {
        "id": "0PLcMgXlrUnq"
      }
    },
    {
      "cell_type": "code",
      "source": [
        "print(\"¡Hola!\")\n",
        "print(\"Mediante este programa podrás visualizar tu elección de candidatos y el partido al que pertenecen\")\n",
        "print(\"A, Cantidato A, partido Alfa\"), print(\"B, Cantidato B, partido Beta\"), print(\"C, Cantidato C, partido Gamma\");\n",
        "elec=str(input(\"Digita A B o C según el menú que visualizaste arriba\"))\n",
        "if elec==\"A\":\n",
        "  print(\"Votaste por el candidado A del partido Alfa\")\n",
        "if elec==\"B\":\n",
        "  print(\"Votaste por el candidado B por el partido Beta\")\n",
        "if elec==\"C\":\n",
        "  print(\"Votaste por el candidado C por el partido Gamma\")\n",
        "if elec!=A or elec!=B or elec!=C:\n",
        "  print(\"Cometiste un error al digitar la letra\")"
      ],
      "metadata": {
        "colab": {
          "base_uri": "https://localhost:8080/"
        },
        "id": "n7mf604yrWh_",
        "outputId": "9c9cd60c-37fe-4320-d80f-c2628033f9e9"
      },
      "execution_count": null,
      "outputs": [
        {
          "output_type": "stream",
          "name": "stdout",
          "text": [
            "¡Hola!\n",
            "Mediante este programa podrás visualizar tu elección de candidatos y el partido al que pertenecen\n",
            "A, Cantidato A, partido Alfa\n",
            "B, Cantidato B, partido Beta\n",
            "C, Cantidato C, partido Gamma\n",
            "Digita A B o C según el menú que visualizaste arribaG\n",
            "Cometiste un error al digitar la letra\n"
          ]
        }
      ]
    },
    {
      "cell_type": "markdown",
      "source": [
        "Ejercicio 18:18.\tEscribir un programa que separe un número en sus unidades, decenas y centenas."
      ],
      "metadata": {
        "id": "N8DIgCJXtk-P"
      }
    },
    {
      "cell_type": "code",
      "source": [
        "print(\"¡Hola!\")\n",
        "print(\"Digita el número que deseas separar en unidades decenas y centenas\")\n",
        "num = input('Ingresa el valor de numero:')\n",
        "\n",
        "categorias= [\n",
        "    'unidades', \n",
        "    'decenas',\n",
        "    'centenas',\n",
        "    \n",
        "]\n",
        "for categoria, digito in zip(categorias, num[::-1]):\n",
        "    print(f'Cantidad de {categoria}:\\t {digito}')\n",
        "\n"
      ],
      "metadata": {
        "colab": {
          "base_uri": "https://localhost:8080/"
        },
        "id": "03TZuABxvTrI",
        "outputId": "ba0af6a9-2e6e-4ffa-8f4e-290b341dd893"
      },
      "execution_count": null,
      "outputs": [
        {
          "output_type": "stream",
          "name": "stdout",
          "text": [
            "¡Hola!\n",
            "Digita el número que deseas separa en unidades decenas y centenas\n",
            "Ingresa el valor de numero:123\n",
            "Cantidad de unidades:\t 3\n",
            "Cantidad de decenas:\t 2\n",
            "Cantidad de centenas:\t 1\n"
          ]
        }
      ]
    },
    {
      "cell_type": "markdown",
      "source": [
        "Ejercicio 19:19.\tEscribir un programa que lea una palabra y defina si es un palíndromo. NOTA: Un palíndromo es una palabra que se lee igual adelante y hacia atrás."
      ],
      "metadata": {
        "id": "Ui-49d2iwEJX"
      }
    },
    {
      "cell_type": "code",
      "source": [
        "print(\"¡Hola!\")\n",
        "print(\"Con este programa podrás saber si la palabra que digites es palíndroma o no\")\n",
        "palabra = input()\n",
        "if str(palabra) == str(palabra)[::-1] :\n",
        "    print(\"La palabra \" f\"{palabra}\" \" es palíndroma\")\n",
        "else:\n",
        "    print(\"La palabra \" f\"{palabra}\" \" no es palíndroma\")"
      ],
      "metadata": {
        "id": "5-KbqJu4wIkZ"
      },
      "execution_count": null,
      "outputs": []
    },
    {
      "cell_type": "markdown",
      "source": [
        "Ejercicio 20:20.\tEscribir un programa que lea un número y defina si es o no un palíndromo."
      ],
      "metadata": {
        "id": "f0TER6MrxZVv"
      }
    },
    {
      "cell_type": "code",
      "source": [
        "print(\"¡Hola!\")\n",
        "print(\"Con este programa podrás saber si el número que digites es palíndromo o no\")\n",
        "num = input()\n",
        "if (num) == (num)[::-1] :\n",
        "    print(\"El número \" f\"{num}\" \" es palíndromo\")\n",
        "else:\n",
        "    print(\"El númeero \" f\"{num}\" \" no es palíndromo\")"
      ],
      "metadata": {
        "id": "4XFOFO5AymQI"
      },
      "execution_count": null,
      "outputs": []
    }
  ]
}