{
  "nbformat": 4,
  "nbformat_minor": 0,
  "metadata": {
    "colab": {
      "provenance": [],
      "collapsed_sections": []
    },
    "kernelspec": {
      "name": "python3",
      "display_name": "Python 3"
    },
    "language_info": {
      "name": "python"
    }
  },
  "cells": [
    {
      "cell_type": "code",
      "execution_count": 19,
      "metadata": {
        "id": "rXYPTxbCwMM0",
        "colab": {
          "base_uri": "https://localhost:8080/"
        },
        "outputId": "98b38da7-46bf-4d30-ed80-09981eb6eeac"
      },
      "outputs": [
        {
          "output_type": "stream",
          "name": "stdout",
          "text": [
            "Menú\n",
            "combo1:20000, combo2:25000, combo3:18000, combo4:24500, papas:3000, jugo natural:7000, cerveza:3500, agua:4000, gaseosas:2500\n",
            "Digita los o el producto que quieres comprar combo1\n",
            "¿Cuántos compraste? 2\n",
            "Los productos en tu factura son:  []\n",
            "Quieres agregar algún producto? no\n",
            "Lo que debes pagar es:  0\n"
          ]
        }
      ],
      "source": [
        "productos={\"combo1\":20000,\"combo 2\":25000,\"combo 3\":18000,\"combo 4\":24500,\"papas\":3000,\"jugo natural\":7000,\"cerveza\":3500,\"agua\":4000,\"gaseosas\":2500}\n",
        "print(\"Menú\")\n",
        "print(\"combo1:20000, combo2:25000, combo3:18000, combo4:24500, papas:3000, jugo natural:7000, cerveza:3500, agua:4000, gaseosas:2500\")\n",
        "\n",
        "addfact=[]\n",
        "total1=[]\n",
        "def calculo():\n",
        "  cliente=input(\"Digita los o el producto que quieres comprar \").lower()\n",
        "  cant=int(input(\"¿Cuántos compraste? \"))\n",
        "\n",
        "\n",
        "\n",
        "calculo()\n",
        "\n",
        "print(\"Los productos en tu factura son: \",addfact)\n",
        "clienterta=input(\"Quieres agregar algún producto? \").lower()\n",
        "if clienterta==\"si\":\n",
        "  calculo()\n",
        "  print(\"Los productos totales en tu factura son: \",addfact)\n",
        "  for prod in addfact:\n",
        "    total1.append(productos[prod])\n",
        "  totalfinal=sum(total1)\n",
        "else:\n",
        "  for prod in addfact:\n",
        "    total1.append(productos[prod])\n",
        "  totalfinal=sum(total1)\n",
        "print(\"Lo que debes pagar es: \",totalfinal)\n",
        "\n"
      ]
    }
  ]
}