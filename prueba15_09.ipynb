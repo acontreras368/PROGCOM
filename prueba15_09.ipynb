{
  "nbformat": 4,
  "nbformat_minor": 0,
  "metadata": {
    "colab": {
      "provenance": [],
      "collapsed_sections": []
    },
    "kernelspec": {
      "name": "python3",
      "display_name": "Python 3"
    },
    "language_info": {
      "name": "python"
    }
  },
  "cells": [
    {
      "cell_type": "code",
      "execution_count": 12,
      "metadata": {
        "id": "obboev0Qw2TX",
        "colab": {
          "base_uri": "https://localhost:8080/"
        },
        "outputId": "330590f0-1ff4-43b3-fa4f-45b8b397f0f9"
      },
      "outputs": [
        {
          "output_type": "stream",
          "name": "stdout",
          "text": [
            "Digita el número de estudiantes del curso1\n",
            "Digita el nombreana\n",
            "Digita la nota de cada estudiante23\n",
            "Digita el número de estudiantes del curso1\n",
            "Digita el nombrepau\n",
            "Digita la nota de cada estudiante23\n",
            "Digita el número de estudiantes del curso1\n",
            "Digita el nombrecam\n",
            "Digita la nota de cada estudiante23\n",
            "El promedio de cada grupo es  23.0 23.0 23.0\n",
            "El promedio de todos los grupos es  23.0\n"
          ]
        }
      ],
      "source": [
        "g1=[]\n",
        "n1=[]\n",
        "g2=[]\n",
        "n2=[]\n",
        "g3=[]\n",
        "n3=[]\n",
        "numest1=int(input(\"Digita el número de estudiantes del curso\"))\n",
        "for i in range (0,numest1):\n",
        "  est1=input(\"Digita el nombre\")\n",
        "  nota1=int(input(\"Digita la nota de cada estudiante\"))\n",
        "  g1.append(est1)\n",
        "  n1.append(nota1)\n",
        "opnota1=sum(n1)\n",
        "\n",
        "numest2=int(input(\"Digita el número de estudiantes del curso\"))\n",
        "for i in range (0,numest2):\n",
        "  est2=input(\"Digita el nombre\")\n",
        "  nota2=int(input(\"Digita la nota de cada estudiante\"))\n",
        "  g2.append(est2)\n",
        "  n2.append(nota2)\n",
        "opnota2=sum(n2)\n",
        "\n",
        "numest3=int(input(\"Digita el número de estudiantes del curso\"))\n",
        "for i in range (0,numest3):\n",
        "  est3=input(\"Digita el nombre\")\n",
        "  nota3=int(input(\"Digita la nota de cada estudiante\"))\n",
        "  g3.append(est3)\n",
        "  n3.append(nota3)\n",
        "opnota3=sum(n3)\n",
        "\n",
        "optotal=(opnota1+opnota2+opnota3)\n",
        "pro1=(opnota1/numest1)\n",
        "pro2=(opnota2/numest2)\n",
        "pro3=(opnota3/numest3)\n",
        "\n",
        "promediototal=(optotal/(numest1+numest2+numest3))\n",
        "print(\"El promedio de cada grupo es \",pro1,pro2,pro3)\n",
        "print(\"El promedio de todos los grupos es \",promediototal)\n",
        "\n",
        "\n"
      ]
    }
  ]
}