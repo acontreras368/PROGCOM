{
  "nbformat": 4,
  "nbformat_minor": 0,
  "metadata": {
    "colab": {
      "provenance": [],
      "collapsed_sections": []
    },
    "kernelspec": {
      "name": "python3",
      "display_name": "Python 3"
    },
    "language_info": {
      "name": "python"
    }
  },
  "cells": [
    {
      "cell_type": "markdown",
      "source": [
        "Ejercicio Ana Contreras, definir y dar ejemplo de la palabra"
      ],
      "metadata": {
        "id": "QPUmwn06oFVc"
      }
    },
    {
      "cell_type": "markdown",
      "source": [
        "False: Es un ejemplo de una variable de tipo booleana (la variable tipo boolean solo puede tener dos valores, False o True)"
      ],
      "metadata": {
        "id": "ZtLo6wQMCvat"
      }
    },
    {
      "cell_type": "code",
      "source": [
        "vt, vf = True, False\n",
        "print (\"El valor es\", vt, \",variable de tipo:\", type(vt), \"\\n\")\n",
        "print (\"El valor es\", vf, \",variable de tipo: \", type(vf))"
      ],
      "metadata": {
        "colab": {
          "base_uri": "https://localhost:8080/"
        },
        "id": "jM1ptQLmE3Rt",
        "outputId": "6059d3f7-fd3a-42cc-a0c1-25d97d33cc5f"
      },
      "execution_count": null,
      "outputs": [
        {
          "output_type": "stream",
          "name": "stdout",
          "text": [
            "El valor es True ,variable de tipo: <class 'bool'> \n",
            "\n",
            "El valor es False ,variable de tipo:  <class 'bool'>\n"
          ]
        }
      ]
    },
    {
      "cell_type": "markdown",
      "source": [
        "class: Es un tipo de dato que se define por medio el usuario, al crear una clase, se permite crear un nuevo tipo de objeto"
      ],
      "metadata": {
        "id": "m9OWF23VFZFw"
      }
    },
    {
      "cell_type": "code",
      "source": [
        "class usuariounab:\n",
        "    pass\n",
        "\n",
        "Ana = usuariounab() \n",
        "Ana.nomc = 'Ana Sofía Contreras Rivera'\n",
        "Ana.id = 'U00155760'\n",
        "Ana.car= 'Ingeniería mecatrónica'\n",
        "print(\"\",Ana.nomc)\n",
        "print(\"\",Ana.id)\n",
        "print(\"\",Ana.car)"
      ],
      "metadata": {
        "colab": {
          "base_uri": "https://localhost:8080/"
        },
        "id": "lnHeKgvLG5OF",
        "outputId": "08a50b91-a6b6-47d2-c5e8-fd45babafbc2"
      },
      "execution_count": null,
      "outputs": [
        {
          "output_type": "stream",
          "name": "stdout",
          "text": [
            " Ana Sofía Contreras Rivera\n",
            " U00155760\n",
            " Ingeniería mecatrónica\n"
          ]
        }
      ]
    },
    {
      "cell_type": "markdown",
      "source": [
        "finally: es una sentencia que se pone para el manejo de errores de ejecución"
      ],
      "metadata": {
        "id": "ekFBUtnJHrXk"
      }
    },
    {
      "cell_type": "code",
      "source": [
        "try:\n",
        "    nota1 = int(input('Introduce la nota 1: '))\n",
        "    nota2 = int(input('Introduce la nota 2: '))\n",
        "    print('El promedio de tus notas es', (nota1+nota2)/2)\n",
        "finally:\n",
        "    print(\"Tienes que mejorar tus calificaciones\")"
      ],
      "metadata": {
        "colab": {
          "base_uri": "https://localhost:8080/"
        },
        "id": "ZLlEITPqJmIL",
        "outputId": "2d51e6d5-ddd0-4ea6-bfb7-051ad1dcdd81"
      },
      "execution_count": null,
      "outputs": [
        {
          "output_type": "stream",
          "name": "stdout",
          "text": [
            "Introduce la nota 1: 20\n",
            "Introduce la nota 2: 40\n",
            "El promedio de tus notas es 30.0\n",
            "Tienes que mejorar tus calificaciones\n"
          ]
        }
      ]
    },
    {
      "cell_type": "markdown",
      "source": [
        "is: es un comparador de identidad estricto"
      ],
      "metadata": {
        "id": "O8JMdTzkJ_0i"
      }
    },
    {
      "cell_type": "code",
      "source": [
        "num=int(input('Introduce un número'))\n",
        "if num is 4:\n",
        "  print('Ambos números son iguales (4 y 4)')\n",
        "else:\n",
        "  print('El número que digitaste es diferente de 4')\n"
      ],
      "metadata": {
        "colab": {
          "base_uri": "https://localhost:8080/"
        },
        "id": "NTXOH7YFKLDS",
        "outputId": "1a00d4dc-0e5c-40d3-8e2d-5ef00129f12e"
      },
      "execution_count": null,
      "outputs": [
        {
          "output_type": "stream",
          "name": "stdout",
          "text": [
            "Introduce un número4\n",
            "Ambos números son iguales (4 y 4)\n"
          ]
        }
      ]
    },
    {
      "cell_type": "markdown",
      "source": [
        "return: indica que finaliza una función y el valor que devuelve dicha función"
      ],
      "metadata": {
        "id": "27RGMn-7LOb9"
      }
    },
    {
      "cell_type": "code",
      "source": [
        "def suma(n1, n2):\n",
        "  return n1 + n2\n",
        "\n",
        "suma(10, 2)"
      ],
      "metadata": {
        "colab": {
          "base_uri": "https://localhost:8080/"
        },
        "id": "xPg8MjjpPokR",
        "outputId": "9a6ad3c4-ee47-4f94-8716-84118d7c9b12"
      },
      "execution_count": null,
      "outputs": [
        {
          "output_type": "execute_result",
          "data": {
            "text/plain": [
              "12"
            ]
          },
          "metadata": {},
          "execution_count": 30
        }
      ]
    },
    {
      "cell_type": "markdown",
      "source": [
        "None: es el único valor del tipo de dato NoneType"
      ],
      "metadata": {
        "id": "4t4buY1jP5L_"
      }
    },
    {
      "cell_type": "code",
      "source": [
        "a = None\n",
        "if a is None:\n",
        "    print(\"\",type(a))\n",
        "else:\n",
        "    print(\"a no es de tipo NoneType\")"
      ],
      "metadata": {
        "colab": {
          "base_uri": "https://localhost:8080/"
        },
        "id": "aOPP83jAQ6mB",
        "outputId": "9df3f14d-e744-4393-fa7c-391004e4f78a"
      },
      "execution_count": null,
      "outputs": [
        {
          "output_type": "stream",
          "name": "stdout",
          "text": [
            " <class 'NoneType'>\n"
          ]
        }
      ]
    },
    {
      "cell_type": "markdown",
      "source": [
        "continue: es una instrucción que permite \"omitir la parte de un bucle en la que se activa una condición externa, pero continuar para completar el resto del bucle.\""
      ],
      "metadata": {
        "id": "tdxikNwjRWmx"
      }
    },
    {
      "cell_type": "code",
      "source": [
        "for letra in \"Sofia\":\n",
        "    if letra == \"o\":\n",
        "        continue\n",
        "    print(letra)\n",
        "\n"
      ],
      "metadata": {
        "colab": {
          "base_uri": "https://localhost:8080/"
        },
        "id": "Xfd12V4GXT3v",
        "outputId": "4e9d1dcc-0356-4836-d2da-671242cd3882"
      },
      "execution_count": null,
      "outputs": [
        {
          "output_type": "stream",
          "name": "stdout",
          "text": [
            "S\n",
            "f\n",
            "i\n",
            "a\n"
          ]
        }
      ]
    },
    {
      "cell_type": "markdown",
      "source": [
        "for: es un tipo de ciclo de repetición en el que se recorren los elementos de un objeto iterable como una lista"
      ],
      "metadata": {
        "id": "ILPzYSIFX8CW"
      }
    },
    {
      "cell_type": "code",
      "source": [
        "n=int(input(\"Escribe el número del que deseas saber el factorial \"))\n",
        "fact=1\n",
        "for i in range(1,n+1):\n",
        "  fact=fact*i\n",
        "print(\"El factorial de\",n,\"es\",fact) "
      ],
      "metadata": {
        "colab": {
          "base_uri": "https://localhost:8080/"
        },
        "id": "hCJPxlbJYyf-",
        "outputId": "0a4d5e84-9af4-4931-8abe-7f567661ec47"
      },
      "execution_count": null,
      "outputs": [
        {
          "output_type": "stream",
          "name": "stdout",
          "text": [
            "Escribe el número del que deseas saber el factorial 8\n",
            "El factorial de 8 es 40320\n"
          ]
        }
      ]
    },
    {
      "cell_type": "markdown",
      "source": [
        "lambda: es un tipo de función anónima ya que se define sin un nombre"
      ],
      "metadata": {
        "id": "RKPejz5tY37M"
      }
    },
    {
      "cell_type": "code",
      "source": [
        "lambda parámetros: expresión\n",
        "cubo = lambda x: x ** 3\n",
        "print(cubo(2))"
      ],
      "metadata": {
        "colab": {
          "base_uri": "https://localhost:8080/"
        },
        "id": "nsdZwRuSciEc",
        "outputId": "ffb79c42-f8bd-477a-a31c-ad7a4ec8e3f5"
      },
      "execution_count": null,
      "outputs": [
        {
          "output_type": "stream",
          "name": "stdout",
          "text": [
            "8\n"
          ]
        }
      ]
    },
    {
      "cell_type": "markdown",
      "source": [
        "try: bloque que contiene el código a ejecutar, pero si hay errores de ejecución se deja de ejecutar"
      ],
      "metadata": {
        "id": "9F5aBmasdMds"
      }
    },
    {
      "cell_type": "code",
      "source": [
        "num=int(input('Digita el dividendo'))\n",
        "div=int(input('Digita el divisor'))\n",
        "try:\n",
        "    op = (num/ div)\n",
        "    print(op)\n",
        "except ZeroDivisionError:\n",
        "    print(\"Hiciste división por cero, NO VÁLIDA \")\n"
      ],
      "metadata": {
        "colab": {
          "base_uri": "https://localhost:8080/"
        },
        "id": "lcPIVx6beLdM",
        "outputId": "98e0ce94-2ae1-44c7-d4d0-2e96e1684f4a"
      },
      "execution_count": null,
      "outputs": [
        {
          "output_type": "stream",
          "name": "stdout",
          "text": [
            "Digita el dividendo9\n",
            "Digita el divisor3\n",
            "3.0\n"
          ]
        }
      ]
    },
    {
      "cell_type": "markdown",
      "source": [
        "True: Es un ejemplo de una variable de tipo booleana (la variable tipo boolean solo puede tener dos valores, False o True)"
      ],
      "metadata": {
        "id": "3p8QNRtmewes"
      }
    },
    {
      "cell_type": "code",
      "source": [
        "if 4 > 2:\n",
        "  print(\"\",True)\n",
        "else:\n",
        "  print(\"\",False)\n"
      ],
      "metadata": {
        "colab": {
          "base_uri": "https://localhost:8080/"
        },
        "id": "PbVh37W4e_wE",
        "outputId": "57aba977-8dbd-4565-a397-15e049b03ad0"
      },
      "execution_count": null,
      "outputs": [
        {
          "output_type": "stream",
          "name": "stdout",
          "text": [
            " True\n"
          ]
        }
      ]
    },
    {
      "cell_type": "markdown",
      "source": [
        "def: sentencia para definir una función escrita por el programador"
      ],
      "metadata": {
        "id": "jJjRWmlIf0is"
      }
    },
    {
      "cell_type": "code",
      "source": [
        "def multi(n1, n2):\n",
        "  return n1 * n2\n",
        "\n",
        "multi(10, 2)"
      ],
      "metadata": {
        "colab": {
          "base_uri": "https://localhost:8080/"
        },
        "id": "NPuCGPcfgBZL",
        "outputId": "e8e7cb70-e55e-4c80-d3db-cafe69768b62"
      },
      "execution_count": null,
      "outputs": [
        {
          "output_type": "execute_result",
          "data": {
            "text/plain": [
              "20"
            ]
          },
          "metadata": {},
          "execution_count": 51
        }
      ]
    },
    {
      "cell_type": "markdown",
      "source": [
        "from: indicar exactamente la importanción de un objeto de una libreria"
      ],
      "metadata": {
        "id": "Cs8Vz3zggKZq"
      }
    },
    {
      "cell_type": "code",
      "source": [
        "from math import pi\n",
        "print(pi)"
      ],
      "metadata": {
        "colab": {
          "base_uri": "https://localhost:8080/"
        },
        "id": "gjENmTrZglAq",
        "outputId": "07283a8b-6500-467a-9582-38ef4c9f327c"
      },
      "execution_count": null,
      "outputs": [
        {
          "output_type": "stream",
          "name": "stdout",
          "text": [
            "3.141592653589793\n"
          ]
        }
      ]
    },
    {
      "cell_type": "markdown",
      "source": [
        "nonlocal: indica que una variable no se encuentra en la función declarada"
      ],
      "metadata": {
        "id": "aCU49xk9ik37"
      }
    },
    {
      "cell_type": "code",
      "source": [
        "def f1():\n",
        "  n = \"Sofía\"\n",
        "  def f2():\n",
        "    nonlocal n\n",
        "    n = \"Ana\"\n",
        "  f2()\n",
        "  return n\n",
        "\n",
        "print(f1())"
      ],
      "metadata": {
        "colab": {
          "base_uri": "https://localhost:8080/"
        },
        "id": "4LtXZskNp3Op",
        "outputId": "efe6feac-9640-426b-915c-3b064db75d6f"
      },
      "execution_count": null,
      "outputs": [
        {
          "output_type": "stream",
          "name": "stdout",
          "text": [
            "Ana\n"
          ]
        }
      ]
    },
    {
      "cell_type": "markdown",
      "source": [
        "while: ciclo de repetición en el que se evalúa una condición y el bucle se ejecuta si se cumple"
      ],
      "metadata": {
        "id": "pprd1IdZriQg"
      }
    },
    {
      "cell_type": "code",
      "source": [
        "def factorial(n): \n",
        "     \n",
        "        fact = 1\n",
        "        while(n > 1): \n",
        "            fact *= n\n",
        "            n -= 1\n",
        "        return fact \n",
        "\n",
        "n=int(input(\"Escribe el número del que deseas saber el factorial \")); \n",
        "\n",
        "print(\"El factorial de\",n,\"es\", factorial(n)) "
      ],
      "metadata": {
        "id": "NG4SfNiaurGY",
        "colab": {
          "base_uri": "https://localhost:8080/"
        },
        "outputId": "f3917706-65eb-4929-a2b5-08c4df22e134"
      },
      "execution_count": null,
      "outputs": [
        {
          "output_type": "stream",
          "name": "stdout",
          "text": [
            "Escribe el número del que deseas saber el factorial 2\n",
            "El factorial de 2 es 2\n"
          ]
        }
      ]
    },
    {
      "cell_type": "markdown",
      "source": [
        "and: operador para evaluar si dos condiciones se cumplen al mismo tiempo"
      ],
      "metadata": {
        "id": "b86OKCFnu5fX"
      }
    },
    {
      "cell_type": "code",
      "source": [
        "num=int(input('Digita un número'))\n",
        "if num>0 and num<10:\n",
        "  print(f\"El número\" ,num, \" es mayor que 0 y menor que 10\")"
      ],
      "metadata": {
        "colab": {
          "base_uri": "https://localhost:8080/"
        },
        "id": "klkQLe0SvD3G",
        "outputId": "18836510-2a56-4990-edf5-f1697a74251c"
      },
      "execution_count": null,
      "outputs": [
        {
          "output_type": "stream",
          "name": "stdout",
          "text": [
            "Digita un número3\n",
            "El número 3  es mayor que 0 y menor que 10\n"
          ]
        }
      ]
    },
    {
      "cell_type": "markdown",
      "source": [
        "del: se utiliza para eliminar variables, objetos,listas, diccionarios, entre otros"
      ],
      "metadata": {
        "id": "pm-NDjCAvgpv"
      }
    },
    {
      "cell_type": "code",
      "source": [
        "lista=[1,2,3,4]\n",
        "del lista [3]\n",
        "print(lista)"
      ],
      "metadata": {
        "colab": {
          "base_uri": "https://localhost:8080/"
        },
        "id": "20qknE-bwdBu",
        "outputId": "ae5db932-ee66-4c19-ab96-57e164e489e7"
      },
      "execution_count": null,
      "outputs": [
        {
          "output_type": "stream",
          "name": "stdout",
          "text": [
            "[1, 2, 3]\n"
          ]
        }
      ]
    },
    {
      "cell_type": "markdown",
      "source": [
        "global: una variable global hace referencia a una variable que se puede llamar desde cualquier línea del código"
      ],
      "metadata": {
        "id": "mXM9FZRHwdMW"
      }
    },
    {
      "cell_type": "code",
      "source": [
        "num = 10\n",
        "\n",
        "def nuevonum():\n",
        "\tglobal num\n",
        "\tnum = 0\n",
        "\n",
        "\n",
        "print(f'El número era {num}')\n",
        "nuevonum()\n",
        "print(f'El nuevo número es {num}')"
      ],
      "metadata": {
        "colab": {
          "base_uri": "https://localhost:8080/"
        },
        "id": "Q7h5i22ywq_e",
        "outputId": "fc614849-37f2-44b6-dfb3-486383ffae3c"
      },
      "execution_count": null,
      "outputs": [
        {
          "output_type": "stream",
          "name": "stdout",
          "text": [
            "El número era 10\n",
            "El nuevo número es 0\n"
          ]
        }
      ]
    },
    {
      "cell_type": "markdown",
      "source": [
        "not: es un operador lógico que muestra el opuesto del valor booleano\n",
        "\n",
        "---\n",
        "\n"
      ],
      "metadata": {
        "id": "yrGDNjH_yuKG"
      }
    },
    {
      "cell_type": "code",
      "source": [
        "print(not True)"
      ],
      "metadata": {
        "colab": {
          "base_uri": "https://localhost:8080/"
        },
        "id": "v4ERj0hOzz7-",
        "outputId": "a868512a-ddd3-4070-c9f3-812e3648e8b7"
      },
      "execution_count": null,
      "outputs": [
        {
          "output_type": "stream",
          "name": "stdout",
          "text": [
            "False\n"
          ]
        }
      ]
    },
    {
      "cell_type": "markdown",
      "source": [
        "with y as: sentencia para modificar la ejecución de un código con métodos determinados por el programador"
      ],
      "metadata": {
        "id": "pgngJMI_2HBm"
      }
    },
    {
      "cell_type": "code",
      "source": [
        "with open(\"cienañosdesoledad.txt\") as archivo:\n",
        "    for linea in archivo:\n",
        "        print(linea)"
      ],
      "metadata": {
        "id": "lwT5iYL7J-Al"
      },
      "execution_count": null,
      "outputs": []
    },
    {
      "cell_type": "markdown",
      "source": [
        "elif: permite evaluar otra condición después del if"
      ],
      "metadata": {
        "id": "evOuIgQPCTEK"
      }
    },
    {
      "cell_type": "code",
      "source": [
        "x=int(input (\"Ingresa un número\"))\n",
        "if x>0:\n",
        "  print(x,\"El número es positivo\")\n",
        "elif x==0:\n",
        "  print (str(x)+\" es cero\")\n",
        "else:\n",
        "  print (f\"{x} es un numero negativo\")\n"
      ],
      "metadata": {
        "id": "eE8K39L6Ckdg",
        "colab": {
          "base_uri": "https://localhost:8080/"
        },
        "outputId": "0ef37f64-b6a8-41d2-9452-68326453268e"
      },
      "execution_count": null,
      "outputs": [
        {
          "output_type": "stream",
          "name": "stdout",
          "text": [
            "Ingresa un número0\n",
            "0 es cero\n"
          ]
        }
      ]
    },
    {
      "cell_type": "markdown",
      "source": [
        "if: condicional que si se cumple una condición se ejecuta un código determinado por el programador"
      ],
      "metadata": {
        "id": "uRlAFS0ZCklA"
      }
    },
    {
      "cell_type": "code",
      "source": [
        "x=int(input (\"Ingresa un número\"))\n",
        "if x>0:\n",
        "  print(x,\"El número es positivo\")\n",
        "elif x==0:\n",
        "  print (str(x)+\" es cero\")\n",
        "else:\n",
        "  print (f\"{x} es un numero negativo\")\n"
      ],
      "metadata": {
        "colab": {
          "base_uri": "https://localhost:8080/"
        },
        "id": "zVVzLDh_DDlq",
        "outputId": "6bf2b0a4-ae85-4b2b-e72b-c8c5e4d81b2a"
      },
      "execution_count": null,
      "outputs": [
        {
          "output_type": "stream",
          "name": "stdout",
          "text": [
            "Ingresa un número4\n",
            "4 El número es positivo\n"
          ]
        }
      ]
    },
    {
      "cell_type": "markdown",
      "source": [
        "or: operador que evalúa el cumplimiento de una condición de varias"
      ],
      "metadata": {
        "id": "CacazpfrDU-H"
      }
    },
    {
      "cell_type": "code",
      "source": [
        "x=int(input (\"Ingresa un número\"))\n",
        "if x==0 or x>0:\n",
        "  print(f\"{x} es mayor o igual a cero\")"
      ],
      "metadata": {
        "colab": {
          "base_uri": "https://localhost:8080/"
        },
        "id": "mbqzKcUeDfFG",
        "outputId": "7dfe1dc3-7b33-4266-8967-89ccf483d601"
      },
      "execution_count": null,
      "outputs": [
        {
          "output_type": "stream",
          "name": "stdout",
          "text": [
            "Ingresa un número5\n",
            "5 es mayor o igual a cero\n"
          ]
        }
      ]
    },
    {
      "cell_type": "markdown",
      "source": [
        "yield: cuando una función en python tiene un yield hace referencia a que el valor obtenido es mediante un generador y no un return"
      ],
      "metadata": {
        "id": "H2toOk8zEEQo"
      }
    },
    {
      "cell_type": "code",
      "source": [
        "def contador(nmayor):\n",
        "    n=0\n",
        "    while n < nmayor:\n",
        "            yield n\n",
        "            n=n+3\n",
        "\n",
        "cont = contador(10)\n",
        "\n",
        "for i in cont:\n",
        "    print(i)\n"
      ],
      "metadata": {
        "colab": {
          "base_uri": "https://localhost:8080/"
        },
        "id": "K_w91PdGE4_X",
        "outputId": "123c702d-90f0-414a-bc96-adcc30d1311d"
      },
      "execution_count": null,
      "outputs": [
        {
          "output_type": "stream",
          "name": "stdout",
          "text": [
            "0\n",
            "3\n",
            "6\n",
            "9\n"
          ]
        }
      ]
    },
    {
      "cell_type": "markdown",
      "source": [
        "assert: prueba si una condición es verdadera, si lo es, no sucede nada, sino lo es arroja un error"
      ],
      "metadata": {
        "id": "pGb3oOXJF8W_"
      }
    },
    {
      "cell_type": "code",
      "source": [
        "assert(2==2)"
      ],
      "metadata": {
        "id": "VnPXMrh8GCAn"
      },
      "execution_count": null,
      "outputs": []
    },
    {
      "cell_type": "markdown",
      "source": [
        "else: declara que sucede cuando una condición no es verdadera"
      ],
      "metadata": {
        "id": "E9Rmed01IhAY"
      }
    },
    {
      "cell_type": "code",
      "source": [
        "x=int(input (\"Ingresa un número\"))\n",
        "if x>0:\n",
        "  print(x,\"El número es positivo\")\n",
        "else:\n",
        "  print (f\"{x} es un numero negativo\")"
      ],
      "metadata": {
        "colab": {
          "base_uri": "https://localhost:8080/"
        },
        "id": "MhDSYOAvIoc2",
        "outputId": "b2eb1646-e71b-4c84-c0ab-2d65874d1f77"
      },
      "execution_count": null,
      "outputs": [
        {
          "output_type": "stream",
          "name": "stdout",
          "text": [
            "Ingresa un número-9\n",
            "-9 es un numero negativo\n"
          ]
        }
      ]
    },
    {
      "cell_type": "markdown",
      "source": [
        "import: se utiliza para importar librerias"
      ],
      "metadata": {
        "id": "3G_J52EkIttX"
      }
    },
    {
      "cell_type": "code",
      "source": [
        "import random \n",
        "val1= int(random.randint(0, 100))\n",
        "print(val1)"
      ],
      "metadata": {
        "id": "yqrw6VSKIzOf",
        "colab": {
          "base_uri": "https://localhost:8080/"
        },
        "outputId": "8e6d84ed-0ac1-45c4-b879-67eb4a049932"
      },
      "execution_count": null,
      "outputs": [
        {
          "output_type": "stream",
          "name": "stdout",
          "text": [
            "53\n"
          ]
        }
      ]
    },
    {
      "cell_type": "markdown",
      "source": [
        "pass: indica que se continúe ejecutando el programa ignorando una condición"
      ],
      "metadata": {
        "id": "AgUULnr_JVU2"
      }
    },
    {
      "cell_type": "code",
      "source": [
        "for letra in \"Sofia\":\n",
        "    if letra == \"f\":\n",
        "        pass\n",
        "    print(letra)"
      ],
      "metadata": {
        "colab": {
          "base_uri": "https://localhost:8080/"
        },
        "id": "J6z0-QC6LHnH",
        "outputId": "d4c0e468-5f5a-45fa-b170-187dc9661e22"
      },
      "execution_count": null,
      "outputs": [
        {
          "output_type": "stream",
          "name": "stdout",
          "text": [
            "S\n",
            "o\n",
            "f\n",
            "i\n",
            "a\n"
          ]
        }
      ]
    },
    {
      "cell_type": "markdown",
      "source": [
        "break: rompe un ciclo"
      ],
      "metadata": {
        "id": "779am2GRLtN_"
      }
    },
    {
      "cell_type": "code",
      "source": [
        "for letra in \"Sofia\":\n",
        "    if letra == \"f\":\n",
        "        break\n",
        "    print(letra)"
      ],
      "metadata": {
        "colab": {
          "base_uri": "https://localhost:8080/"
        },
        "id": "RLnliVJiL3Ut",
        "outputId": "866ed20f-522a-412d-a881-c830be55f425"
      },
      "execution_count": null,
      "outputs": [
        {
          "output_type": "stream",
          "name": "stdout",
          "text": [
            "S\n",
            "o\n"
          ]
        }
      ]
    },
    {
      "cell_type": "markdown",
      "source": [
        "except: se ejecuta cuando hay un error, normalmente explica el error"
      ],
      "metadata": {
        "id": "VhLxp4QRL6HH"
      }
    },
    {
      "cell_type": "code",
      "source": [
        "num=int(input('Digita el dividendo '))\n",
        "div=int(input('Digita el divisor '))\n",
        "try:\n",
        "    op = (num/ div)\n",
        "    print(op)\n",
        "except ZeroDivisionError:\n",
        "    print(\"Hiciste división por cero, NO VÁLIDA \")"
      ],
      "metadata": {
        "colab": {
          "base_uri": "https://localhost:8080/"
        },
        "id": "JnJukDG8ToUh",
        "outputId": "3ca223ad-0393-4443-cd44-fbf1a05caaad"
      },
      "execution_count": null,
      "outputs": [
        {
          "output_type": "stream",
          "name": "stdout",
          "text": [
            "Digita el dividendo3\n",
            "Digita el divisor0\n",
            "Hiciste división por cero, NO VÁLIDA \n"
          ]
        }
      ]
    },
    {
      "cell_type": "markdown",
      "source": [
        "in: operador de pertenencia, muestra true si la pertenencia se cumple"
      ],
      "metadata": {
        "id": "MuKTBg9dUzb_"
      }
    },
    {
      "cell_type": "code",
      "source": [
        "a = [2,4,6,8,10]\n",
        "\n",
        "print (2 in a) "
      ],
      "metadata": {
        "colab": {
          "base_uri": "https://localhost:8080/"
        },
        "id": "_7M8Re_BVPyk",
        "outputId": "7f7c3b56-6061-412f-ea07-6149ba902b87"
      },
      "execution_count": null,
      "outputs": [
        {
          "output_type": "stream",
          "name": "stdout",
          "text": [
            "True\n"
          ]
        }
      ]
    },
    {
      "cell_type": "markdown",
      "source": [
        "raise: otra forma de controlar un error que arroje el programa"
      ],
      "metadata": {
        "id": "xUMh0vkEVfu_"
      }
    },
    {
      "cell_type": "code",
      "source": [
        "nota=int(input(\"Digita una nota\"))\n",
        "if nota<0:\n",
        "  raise ValueError(\"El valor debe ser mayor a cero\")\n"
      ],
      "metadata": {
        "id": "LFxa8GM7oAIo"
      },
      "execution_count": null,
      "outputs": []
    },
    {
      "cell_type": "markdown",
      "source": [
        "bibliografía\n",
        "https://entrenamiento-python-basico.readthedocs.io/es/latest/leccion3/tipo_booleanos.html#:~:text=3.7.-,Tipo%20booleanos,)%20y%20False%20(falso).\n",
        "https://docs.python.org/es/3/tutorial/classes.html\n",
        "http://elclubdelautodidacta.es/wp/2014/03/python-y-finalmente-finally/\n",
        "https://www.analyticslane.com/2020/09/28/diferencia-entre-los-operadores-is-y-en-python/\n",
        "https://www.mclibre.org/consultar/python/lecciones/python-funciones-2.html#:~:text=La%20instrucci%C3%B3n%20return%20indica%20el%20final%20de%20la%20funci%C3%B3n%20pero,la%20llamada%20a%20la%20funci%C3%B3n.&text=El%20valor%20devuelto%20por%20la,en%20la%20variable%20%22media%22.&text=Se%20escribe%20el%20resultado%20de%20la%20operaci%C3%B3n.,-Ejemplo%20de%20funci%C3%B3n\n",
        "https://recursospython.com/guias-y-manuales/el-tipo-de-dato-none/\n",
        "https://www.programiz.com/python-programming/break-continue\n",
        "https://j2logo.com/bucle-for-en-python/\n",
        "https://j2logo.com/python/funciones-lambda-en-python/#:~:text=y%20reduce()-,Qu%C3%A9%20son%20las%20funciones%20lambda%20en%20Python,con%20la%20palabra%20reservada%20lambda%20.\n",
        "https://www.freecodecamp.org/espanol/news/sentencias-try-y-except-de-python-como-menejar-excepciones-en-python/#:~:text=Sintaxis%20de%20Try%20y%20Except%20en%20Python&text=EL%20bloque%20try%20es%20el,falle%20debido%20a%20un%20error.\n",
        "https://www.w3schools.com/python/ref_keyword_nonlocal.asp\n",
        "https://ellibrodepython.com/operadores-logicos\n",
        "https://docs.python.org/es/3.10/reference/compound_stmts.html#:~:text=La%20sentencia%20with%20se%20usa,Contexto%20en%20la%20Declaraci%C3%B3n%20with).\n",
        "https://es.stackoverflow.com/questions/6048/cu%C3%A1l-es-el-funcionamiento-de-yield-en-python\n",
        "https://www.geeksforgeeks.org/use-yield-keyword-instead-return-keyword-python/\n",
        "https://www.freecodecamp.org/espanol/news/python-ejemplos-de-codigo-tutorial-de-programacion-en-python-desde-cero-para-principiantes/#-operadores-en-python"
      ],
      "metadata": {
        "id": "2ODB32I0Hxyr"
      }
    }
  ]
}